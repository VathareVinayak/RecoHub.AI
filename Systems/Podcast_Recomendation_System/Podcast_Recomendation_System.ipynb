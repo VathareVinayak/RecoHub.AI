{
  "cells": [
    {
      "cell_type": "code",
      "execution_count": 1,
      "metadata": {
        "id": "rfV5GfS-IEfE"
      },
      "outputs": [],
      "source": [
        "import pandas as pd\n",
        "import matplotlib.pyplot as plt\n",
        "import seaborn as sns\n",
        "from sklearn.feature_extraction.text import TfidfVectorizer\n",
        "from sklearn.neighbors import NearestNeighbors"
      ]
    },
    {
      "cell_type": "markdown",
      "metadata": {
        "id": "ziTQFpTRIt8R"
      },
      "source": [
        "##  Load and Explore Dataset"
      ]
    },
    {
      "cell_type": "code",
      "execution_count": 2,
      "metadata": {
        "id": "2XkyAmDBIq3x"
      },
      "outputs": [],
      "source": [
        "# Load dataset\n",
        "df = pd.read_csv(\"J:\\#Recommendation-System\\Systems\\Podcast_Recomendation_System\\Podcast-Recomendation-System.csv\")"
      ]
    },
    {
      "cell_type": "code",
      "execution_count": 3,
      "metadata": {
        "colab": {
          "base_uri": "https://localhost:8080/"
        },
        "id": "bIIR8_uYIE6M",
        "outputId": "56fe2495-5128-42a2-ffd3-f2f41f9b5bc4"
      },
      "outputs": [
        {
          "name": "stdout",
          "output_type": "stream",
          "text": [
            "<class 'pandas.core.frame.DataFrame'>\n",
            "RangeIndex: 121175 entries, 0 to 121174\n",
            "Data columns (total 9 columns):\n",
            " #   Column       Non-Null Count   Dtype \n",
            "---  ------       --------------   ----- \n",
            " 0   uuid         121175 non-null  object\n",
            " 1   title        121173 non-null  object\n",
            " 2   image        121175 non-null  object\n",
            " 3   description  119830 non-null  object\n",
            " 4   language     121175 non-null  object\n",
            " 5   categories   121175 non-null  object\n",
            " 6   website      120005 non-null  object\n",
            " 7   author       118678 non-null  object\n",
            " 8   itunes_id    121175 non-null  int64 \n",
            "dtypes: int64(1), object(8)\n",
            "memory usage: 8.3+ MB\n"
          ]
        }
      ],
      "source": [
        "# Display basic dataset info\n",
        "df.info()"
      ]
    },
    {
      "cell_type": "code",
      "execution_count": 4,
      "metadata": {
        "colab": {
          "base_uri": "https://localhost:8080/",
          "height": 354
        },
        "id": "_LsklMAvIE8o",
        "outputId": "e654ed4e-c1d0-4abf-d35a-076e1226844b"
      },
      "outputs": [
        {
          "data": {
            "text/html": [
              "<div>\n",
              "<style scoped>\n",
              "    .dataframe tbody tr th:only-of-type {\n",
              "        vertical-align: middle;\n",
              "    }\n",
              "\n",
              "    .dataframe tbody tr th {\n",
              "        vertical-align: top;\n",
              "    }\n",
              "\n",
              "    .dataframe thead th {\n",
              "        text-align: right;\n",
              "    }\n",
              "</style>\n",
              "<table border=\"1\" class=\"dataframe\">\n",
              "  <thead>\n",
              "    <tr style=\"text-align: right;\">\n",
              "      <th></th>\n",
              "      <th>uuid</th>\n",
              "      <th>title</th>\n",
              "      <th>image</th>\n",
              "      <th>description</th>\n",
              "      <th>language</th>\n",
              "      <th>categories</th>\n",
              "      <th>website</th>\n",
              "      <th>author</th>\n",
              "      <th>itunes_id</th>\n",
              "    </tr>\n",
              "  </thead>\n",
              "  <tbody>\n",
              "    <tr>\n",
              "      <th>0</th>\n",
              "      <td>8d62d3880db2425b890b986e58aca393</td>\n",
              "      <td>Ecommerce Conversations, by Practical Ecommerce</td>\n",
              "      <td>http://is4.mzstatic.com/image/thumb/Music6/v4/...</td>\n",
              "      <td>Listen in as the Practical Ecommerce editorial...</td>\n",
              "      <td>English</td>\n",
              "      <td>Technology</td>\n",
              "      <td>http://www.practicalecommerce.com</td>\n",
              "      <td>Practical Ecommerce</td>\n",
              "      <td>874457373</td>\n",
              "    </tr>\n",
              "    <tr>\n",
              "      <th>1</th>\n",
              "      <td>cbbefd691915468c90f87ab2f00473f9</td>\n",
              "      <td>Eat Sleep Code Podcast</td>\n",
              "      <td>http://is4.mzstatic.com/image/thumb/Music71/v4...</td>\n",
              "      <td>On the show we’ll be talking to passionate peo...</td>\n",
              "      <td>English</td>\n",
              "      <td>Tech News | Technology</td>\n",
              "      <td>http://developer.telerik.com/</td>\n",
              "      <td>Telerik</td>\n",
              "      <td>1015556393</td>\n",
              "    </tr>\n",
              "    <tr>\n",
              "      <th>2</th>\n",
              "      <td>73626ad1edb74dbb8112cd159bda86cf</td>\n",
              "      <td>SoundtrackAlley</td>\n",
              "      <td>http://is5.mzstatic.com/image/thumb/Music71/v4...</td>\n",
              "      <td>A podcast about soundtracks and movies from my...</td>\n",
              "      <td>English</td>\n",
              "      <td>Podcasting | Technology</td>\n",
              "      <td>https://soundtrackalley.podbean.com</td>\n",
              "      <td>Randy Andrews</td>\n",
              "      <td>1158188937</td>\n",
              "    </tr>\n",
              "  </tbody>\n",
              "</table>\n",
              "</div>"
            ],
            "text/plain": [
              "                               uuid  \\\n",
              "0  8d62d3880db2425b890b986e58aca393   \n",
              "1  cbbefd691915468c90f87ab2f00473f9   \n",
              "2  73626ad1edb74dbb8112cd159bda86cf   \n",
              "\n",
              "                                             title  \\\n",
              "0  Ecommerce Conversations, by Practical Ecommerce   \n",
              "1                           Eat Sleep Code Podcast   \n",
              "2                                  SoundtrackAlley   \n",
              "\n",
              "                                               image  \\\n",
              "0  http://is4.mzstatic.com/image/thumb/Music6/v4/...   \n",
              "1  http://is4.mzstatic.com/image/thumb/Music71/v4...   \n",
              "2  http://is5.mzstatic.com/image/thumb/Music71/v4...   \n",
              "\n",
              "                                         description language  \\\n",
              "0  Listen in as the Practical Ecommerce editorial...  English   \n",
              "1  On the show we’ll be talking to passionate peo...  English   \n",
              "2  A podcast about soundtracks and movies from my...  English   \n",
              "\n",
              "                categories                              website  \\\n",
              "0               Technology    http://www.practicalecommerce.com   \n",
              "1   Tech News | Technology        http://developer.telerik.com/   \n",
              "2  Podcasting | Technology  https://soundtrackalley.podbean.com   \n",
              "\n",
              "                author   itunes_id  \n",
              "0  Practical Ecommerce   874457373  \n",
              "1              Telerik  1015556393  \n",
              "2        Randy Andrews  1158188937  "
            ]
          },
          "execution_count": 4,
          "metadata": {},
          "output_type": "execute_result"
        }
      ],
      "source": [
        "df.head(3)"
      ]
    },
    {
      "cell_type": "markdown",
      "metadata": {
        "id": "rCw0sNPTJRcx"
      },
      "source": [
        "## Data Cleaning & Preprocessing"
      ]
    },
    {
      "cell_type": "code",
      "execution_count": 5,
      "metadata": {
        "id": "5OVuJvlvIE_a"
      },
      "outputs": [],
      "source": [
        "# Drop missing values in title and description\n",
        "dataset = df.dropna(subset=[\"title\", \"description\"]).copy()"
      ]
    },
    {
      "cell_type": "code",
      "execution_count": 6,
      "metadata": {
        "id": "_P5r2ORnIFCF"
      },
      "outputs": [],
      "source": [
        "# Convert language and categories to lowercase\n",
        "dataset[\"language\"] = dataset[\"language\"].str.lower()\n",
        "dataset[\"categories\"] = dataset[\"categories\"].str.lower()"
      ]
    },
    {
      "cell_type": "code",
      "execution_count": 7,
      "metadata": {
        "id": "NfVxPoyBIFEy"
      },
      "outputs": [],
      "source": [
        "# Remove unwanted characters from categorie\n",
        "dataset[\"categories\"] = dataset[\"categories\"].str.replace(r\"[|/&]\", \" \", regex=True)"
      ]
    },
    {
      "cell_type": "code",
      "execution_count": 8,
      "metadata": {
        "id": "z0CyVtFclq5A"
      },
      "outputs": [],
      "source": [
        "# Convert categories into list format\n",
        "dataset[\"categories\"] = dataset[\"categories\"].str.split()"
      ]
    },
    {
      "cell_type": "markdown",
      "metadata": {
        "id": "Et52XSoCJ7ZY"
      },
      "source": [
        "## Data Visualization"
      ]
    },
    {
      "cell_type": "code",
      "execution_count": 9,
      "metadata": {
        "colab": {
          "base_uri": "https://localhost:8080/",
          "height": 646
        },
        "id": "r7b6SkBqIFHi",
        "outputId": "5de11e8d-4654-4b43-e1b8-fb608a90129b"
      },
      "outputs": [
        {
          "name": "stderr",
          "output_type": "stream",
          "text": [
            "C:\\Users\\vinay\\AppData\\Local\\Temp\\ipykernel_20460\\3794155541.py:4: FutureWarning: \n",
            "\n",
            "Passing `palette` without assigning `hue` is deprecated and will be removed in v0.14.0. Assign the `x` variable to `hue` and set `legend=False` for the same effect.\n",
            "\n",
            "  sns.barplot(x=language_counts.index, y=language_counts.values, palette=\"viridis\")\n"
          ]
        },
        {
          "data": {
            "image/png": "[encoded data removed]",
            "text/plain": [
              "<Figure size 1000x500 with 1 Axes>"
            ]
          },
          "metadata": {},
          "output_type": "display_data"
        }
      ],
      "source": [
        "# Top 10 Languages in Dataset\n",
        "plt.figure(figsize=(10, 5))\n",
        "language_counts = dataset[\"language\"].value_counts().head(10)\n",
        "sns.barplot(x=language_counts.index, y=language_counts.values, palette=\"viridis\")\n",
        "plt.title(\"Top 10 Languages in Podcasts Dataset\")\n",
        "plt.xlabel(\"Language\")\n",
        "plt.ylabel(\"Count\")\n",
        "plt.xticks(rotation=45)\n",
        "plt.show()\n"
      ]
    },
    {
      "cell_type": "code",
      "execution_count": 10,
      "metadata": {
        "colab": {
          "base_uri": "https://localhost:8080/",
          "height": 742
        },
        "id": "ouenKEg5IFMx",
        "outputId": "c06d13f4-16a1-4d43-f4a7-5dace0f5b632"
      },
      "outputs": [
        {
          "data": {
            "text/plain": [
              "categories\n",
              "[religion, spirituality, christianity]    9687\n",
              "[christianity, religion, spirituality]    8173\n",
              "[music]                                   7586\n",
              "[comedy]                                  6298\n",
              "[news, politics]                          5987\n",
              "[society, culture]                        5971\n",
              "[tv, film]                                4750\n",
              "[sports, recreation]                      4070\n",
              "[religion, spirituality]                  3286\n",
              "[business]                                2277\n",
              "[education]                               1622\n",
              "[professional, sports, recreation]        1572\n",
              "[sports, recreation, professional]        1408\n",
              "[arts]                                    1244\n",
              "[games, hobbies]                          1207\n",
              "[health]                                   979\n",
              "[technology]                               941\n",
              "[video, games, games, hobbies]             740\n",
              "[games, hobbies, video, games]             663\n",
              "[kids, family]                             586\n",
              "Name: count, dtype: int64"
            ]
          },
          "execution_count": 10,
          "metadata": {},
          "output_type": "execute_result"
        }
      ],
      "source": [
        "dataset['categories'].value_counts().head(20)"
      ]
    },
    {
      "cell_type": "code",
      "execution_count": 11,
      "metadata": {
        "colab": {
          "base_uri": "https://localhost:8080/",
          "height": 621
        },
        "id": "qU7Azr6YIFKI",
        "outputId": "009f7bfb-bdc4-4f91-ad24-c44dfe269ef0"
      },
      "outputs": [
        {
          "name": "stderr",
          "output_type": "stream",
          "text": [
            "C:\\Users\\vinay\\AppData\\Local\\Temp\\ipykernel_20460\\3204160900.py:11: FutureWarning: \n",
            "\n",
            "Passing `palette` without assigning `hue` is deprecated and will be removed in v0.14.0. Assign the `y` variable to `hue` and set `legend=False` for the same effect.\n",
            "\n",
            "  sns.barplot(x=categories_counts.values , y=categories_counts.index, palette=\"viridis\",orient='h' )\n"
          ]
        },
        {
          "data": {
            "image/png": "[encoded data removed]",
            "text/plain": [
              "<Figure size 1000x500 with 1 Axes>"
            ]
          },
          "metadata": {},
          "output_type": "display_data"
        }
      ],
      "source": [
        "# Top 15 Categories in Dataset\n",
        "plt.figure(figsize=(10, 5))\n",
        "\n",
        "# Explode the categories list into individual rows\n",
        "categories_exploded = dataset.explode('categories')\n",
        "\n",
        "# Calculate value counts for the exploded categories\n",
        "categories_counts = categories_exploded['categories'].value_counts().head(15)\n",
        "\n",
        "# Plot the barplot\n",
        "sns.barplot(x=categories_counts.values , y=categories_counts.index, palette=\"viridis\",orient='h' )\n",
        "\n",
        "plt.title(\"Top 15 Categories in Podcasts Dataset\")\n",
        "plt.xlabel(\"Categories\")\n",
        "plt.ylabel(\"Count\")\n",
        "plt.xticks(rotation=45)\n",
        "plt.show()"
      ]
    },
    {
      "cell_type": "code",
      "execution_count": 12,
      "metadata": {},
      "outputs": [],
      "source": [
        "dataset.to_csv(\"J:/#Recommendation-System/Systems/Podcast_Recomendation_System/cleaned_podcasts.csv\", index=False)\n"
      ]
    },
    {
      "cell_type": "markdown",
      "metadata": {
        "id": "0t9gpJYnxx2O"
      },
      "source": [
        "## Feature Engineering & Model Training"
      ]
    },
    {
      "cell_type": "code",
      "execution_count": 13,
      "metadata": {
        "id": "V2soNaWMIFPQ"
      },
      "outputs": [],
      "source": [
        "## Initialize TF-IDF Vectorizer\n",
        "tfidf = TfidfVectorizer(stop_words=\"english\", max_features=5000)\n",
        "tfidf_matrix = tfidf.fit_transform(dataset[\"description\"].fillna(\"\"))"
      ]
    },
    {
      "cell_type": "code",
      "execution_count": 14,
      "metadata": {
        "colab": {
          "base_uri": "https://localhost:8080/",
          "height": 80
        },
        "id": "nMCUEiR7IFSB",
        "outputId": "22205482-da5b-40fe-84bd-52526895d113"
      },
      "outputs": [
        {
          "data": {
            "text/html": [
              "<style>#sk-container-id-1 {color: black;}#sk-container-id-1 pre{padding: 0;}#sk-container-id-1 div.sk-toggleable {background-color: white;}#sk-container-id-1 label.sk-toggleable__label {cursor: pointer;display: block;width: 100%;margin-bottom: 0;padding: 0.3em;box-sizing: border-box;text-align: center;}#sk-container-id-1 label.sk-toggleable__label-arrow:before {content: \"▸\";float: left;margin-right: 0.25em;color: #696969;}#sk-container-id-1 label.sk-toggleable__label-arrow:hover:before {color: black;}#sk-container-id-1 div.sk-estimator:hover label.sk-toggleable__label-arrow:before {color: black;}#sk-container-id-1 div.sk-toggleable__content {max-height: 0;max-width: 0;overflow: hidden;text-align: left;background-color: #f0f8ff;}#sk-container-id-1 div.sk-toggleable__content pre {margin: 0.2em;color: black;border-radius: 0.25em;background-color: #f0f8ff;}#sk-container-id-1 input.sk-toggleable__control:checked~div.sk-toggleable__content {max-height: 200px;max-width: 100%;overflow: auto;}#sk-container-id-1 input.sk-toggleable__control:checked~label.sk-toggleable__label-arrow:before {content: \"▾\";}#sk-container-id-1 div.sk-estimator input.sk-toggleable__control:checked~label.sk-toggleable__label {background-color: #d4ebff;}#sk-container-id-1 div.sk-label input.sk-toggleable__control:checked~label.sk-toggleable__label {background-color: #d4ebff;}#sk-container-id-1 input.sk-hidden--visually {border: 0;clip: rect(1px 1px 1px 1px);clip: rect(1px, 1px, 1px, 1px);height: 1px;margin: -1px;overflow: hidden;padding: 0;position: absolute;width: 1px;}#sk-container-id-1 div.sk-estimator {font-family: monospace;background-color: #f0f8ff;border: 1px dotted black;border-radius: 0.25em;box-sizing: border-box;margin-bottom: 0.5em;}#sk-container-id-1 div.sk-estimator:hover {background-color: #d4ebff;}#sk-container-id-1 div.sk-parallel-item::after {content: \"\";width: 100%;border-bottom: 1px solid gray;flex-grow: 1;}#sk-container-id-1 div.sk-label:hover label.sk-toggleable__label {background-color: #d4ebff;}#sk-container-id-1 div.sk-serial::before {content: \"\";position: absolute;border-left: 1px solid gray;box-sizing: border-box;top: 0;bottom: 0;left: 50%;z-index: 0;}#sk-container-id-1 div.sk-serial {display: flex;flex-direction: column;align-items: center;background-color: white;padding-right: 0.2em;padding-left: 0.2em;position: relative;}#sk-container-id-1 div.sk-item {position: relative;z-index: 1;}#sk-container-id-1 div.sk-parallel {display: flex;align-items: stretch;justify-content: center;background-color: white;position: relative;}#sk-container-id-1 div.sk-item::before, #sk-container-id-1 div.sk-parallel-item::before {content: \"\";position: absolute;border-left: 1px solid gray;box-sizing: border-box;top: 0;bottom: 0;left: 50%;z-index: -1;}#sk-container-id-1 div.sk-parallel-item {display: flex;flex-direction: column;z-index: 1;position: relative;background-color: white;}#sk-container-id-1 div.sk-parallel-item:first-child::after {align-self: flex-end;width: 50%;}#sk-container-id-1 div.sk-parallel-item:last-child::after {align-self: flex-start;width: 50%;}#sk-container-id-1 div.sk-parallel-item:only-child::after {width: 0;}#sk-container-id-1 div.sk-dashed-wrapped {border: 1px dashed gray;margin: 0 0.4em 0.5em 0.4em;box-sizing: border-box;padding-bottom: 0.4em;background-color: white;}#sk-container-id-1 div.sk-label label {font-family: monospace;font-weight: bold;display: inline-block;line-height: 1.2em;}#sk-container-id-1 div.sk-label-container {text-align: center;}#sk-container-id-1 div.sk-container {/* jupyter's `normalize.less` sets `[hidden] { display: none; }` but bootstrap.min.css set `[hidden] { display: none !important; }` so we also need the `!important` here to be able to override the default hidden behavior on the sphinx rendered scikit-learn.org. See: https://github.com/scikit-learn/scikit-learn/issues/21755 */display: inline-block !important;position: relative;}#sk-container-id-1 div.sk-text-repr-fallback {display: none;}</style><div id=\"sk-container-id-1\" class=\"sk-top-container\"><div class=\"sk-text-repr-fallback\"><pre>NearestNeighbors(algorithm=&#x27;brute&#x27;, metric=&#x27;cosine&#x27;, n_neighbors=10)</pre><b>In a Jupyter environment, please rerun this cell to show the HTML representation or trust the notebook. <br />On GitHub, the HTML representation is unable to render, please try loading this page with nbviewer.org.</b></div><div class=\"sk-container\" hidden><div class=\"sk-item\"><div class=\"sk-estimator sk-toggleable\"><input class=\"sk-toggleable__control sk-hidden--visually\" id=\"sk-estimator-id-1\" type=\"checkbox\" checked><label for=\"sk-estimator-id-1\" class=\"sk-toggleable__label sk-toggleable__label-arrow\">NearestNeighbors</label><div class=\"sk-toggleable__content\"><pre>NearestNeighbors(algorithm=&#x27;brute&#x27;, metric=&#x27;cosine&#x27;, n_neighbors=10)</pre></div></div></div></div></div>"
            ],
            "text/plain": [
              "NearestNeighbors(algorithm='brute', metric='cosine', n_neighbors=10)"
            ]
          },
          "execution_count": 14,
          "metadata": {},
          "output_type": "execute_result"
        }
      ],
      "source": [
        "## Initialize Nearest Neighbors Model\n",
        "nn_model = NearestNeighbors(n_neighbors=10, metric=\"cosine\", algorithm=\"brute\")\n",
        "nn_model.fit(tfidf_matrix)"
      ]
    },
    {
      "cell_type": "markdown",
      "metadata": {
        "id": "K-4VXfGjyxyn"
      },
      "source": [
        "Now , what we will do\n",
        "\n",
        "Recommend top N podcasts based on language and category using Nearest Neighbors.\n",
        "    \n",
        "Parameters:\n",
        "\n",
        "- language (str): User's preferred language.\n",
        "- category (str): Desired podcast category.\n",
        "- top_n (int): Number of recommendations (default: 5).\n",
        "\n",
        "Returns:\n",
        "\n",
        "- List of recommended podcast details (title, image, description)."
      ]
    },
    {
      "cell_type": "code",
      "execution_count": 15,
      "metadata": {
        "id": "aLDLObAmIFU0"
      },
      "outputs": [],
      "source": [
        "def recommend_podcasts(language: str, category: str, top_n=10):\n",
        "    # Filter dataset by language\n",
        "    filtered_data = dataset[dataset[\"language\"] == language.lower()]\n",
        "\n",
        "    # Further filter by category (podcasts that contain the category)\n",
        "    filtered_data = filtered_data[filtered_data[\"categories\"].apply(lambda x: category.lower() in x)]\n",
        "\n",
        "    if filtered_data.empty:\n",
        "        return f\"No podcasts found for language '{language}' and category '{category}'.\"\n",
        "\n",
        "    # Get indices of the filtered podcasts\n",
        "    indices = filtered_data.index.tolist()\n",
        "\n",
        "    # Find the nearest neighbors for the first podcast in the filtered list\n",
        "    query_index = indices[0]  # Pick first matching podcast\n",
        "    distances, neighbors = nn_model.kneighbors(tfidf_matrix[query_index], n_neighbors=top_n + 1)\n",
        "\n",
        "    # Get recommended podcast details\n",
        "    recommendations = []\n",
        "    for idx in neighbors[0][1:]:  # Skip first one (it’s the same as query)\n",
        "        recommendations.append({\n",
        "            \"title\": dataset.iloc[idx][\"title\"],\n",
        "            \"image\": dataset.iloc[idx][\"image\"],\n",
        "            \"description\": dataset.iloc[idx][\"description\"]\n",
        "        })\n",
        "\n",
        "    return recommendations\n"
      ]
    },
    {
      "cell_type": "code",
      "execution_count": 16,
      "metadata": {
        "colab": {
          "base_uri": "https://localhost:8080/"
        },
        "id": "VBMrFDFrIFXk",
        "outputId": "8fb6827b-39b6-4150-cf6c-05b36e4a1180"
      },
      "outputs": [
        {
          "name": "stdout",
          "output_type": "stream",
          "text": [
            "## Example Recommendations:\n"
          ]
        },
        {
          "data": {
            "text/plain": [
              "[{'title': 'Tudo sobre eCommerce',\n",
              "  'image': 'http://is4.mzstatic.com/image/thumb/Music118/v4/13/17/bf/1317bf5c-d42e-1115-38dc-b667cb5dec80/source/600x600bb.jpg',\n",
              "  'description': 'O acelerador de projetos de ecommerce em Portugal…'},\n",
              " {'title': 'eCommerce Evolution',\n",
              "  'image': 'http://is3.mzstatic.com/image/thumb/Music122/v4/e4/f1/d0/e4f1d065-36f5-fdf5-5839-d4c9bc21225a/source/600x600bb.jpg',\n",
              "  'description': \"eCommerce Evolution is hosted by Brett Curry, CEO of OMG Commerce.  Tune in for fresh interviews with the merchants, vendors, and experts shaping the eCommerce industry.  We take an in-depth look at what's new and what's next in eCommerce.\"},\n",
              " {'title': 'Cha-Ching! - An eCommerce Podcast',\n",
              "  'image': 'http://is3.mzstatic.com/image/thumb/Music128/v4/8e/87/5b/8e875bf5-c7f3-7e83-09f3-b368d8d714af/source/600x600bb.jpg',\n",
              "  'description': \"Cha-Ching! is an eCommerce podcast where host, Kevin Wild, interviews merchants, app developers, and thought leaders on their experiences and successes with eCommerce.  Every week, we will bring you an engaging discussion with someone deeply involved in the world of eCommerce.  Whether it's dissecting a successful storeowner on how they managed to scale, or debating with a thought leader on where they see eCommerce going in the future, Cha-Ching! is the podcast for anyone and everyone involved with selling online.\"},\n",
              " {'title': 'podcast – eCommerce Allstars',\n",
              "  'image': 'http://is5.mzstatic.com/image/thumb/Music111/v4/7f/59/db/7f59db05-43ec-bbd1-ca7a-bfc2d4f6f3d4/source/600x600bb.jpg',\n",
              "  'description': 'The podcast is geared to an audience of eCommerce entrepreneurs who tune in to hear stories of successes and struggles to which they may relate, aspire to otherwise hope to avoid. The goal is to encourage, inspire and educate through REAL life situations and stories.\\n\\nJoin us while I chat with eCommerce entrepreneurs, influencers and eCommerce solution providers who hope to enrich the lives of the everyday eCommerce entrepreneur.'},\n",
              " {'title': 'MagmaLabs Podcasts',\n",
              "  'image': 'http://is5.mzstatic.com/image/thumb/Music111/v4/80/d3/9b/80d39b28-e8d5-9239-f693-e98bf9fb8577/source/600x600bb.jpg',\n",
              "  'description': 'Expert Design, Ecommerce, and Software Developmen…'},\n",
              " {'title': 'The Ecommerce Influence Podcast: Advanced Acquisition and Retention Strategies for Fast-Growing Online Brands',\n",
              "  'image': 'http://is1.mzstatic.com/image/thumb/Music71/v4/d9/ae/97/d9ae97ce-4c48-787f-a60e-cd0eca09f56f/source/600x600bb.jpg',\n",
              "  'description': 'Ecommerce Influence is a podcast for the ecommerce business owner and online marketing executive.  We have candid conversations with masters of ecommerce marketing and branding, and provide training and strategies to that help you convert more of your visitors to paying customers. Topics include lead capture, email marketing, shopping cart abandonment, conversion rate optimization, business automation, analytics and more.'},\n",
              " {'title': 'eCommerceFuel: Build, Launch and Grow a 6 Figure Plus eCommerce Business | eCommerce Fuel',\n",
              "  'image': 'http://is2.mzstatic.com/image/thumb/Music62/v4/ff/8a/20/ff8a201d-21e1-aedc-bd5c-19cb98a94679/source/600x600bb.jpg',\n",
              "  'description': \"Looking for detailed information from top experts on researching, launching and growing your online eCommerce business? Look no further.  Join your host Andrew Youderian, an experienced eCommerce entrepreneur, each week as he pulls aside some of the industry's top experts to give you down to earth, actionable advice served up with a side of comic relief.  Learn from the masters how to turn your 'make money online' attempt into a profitable, growing online store. Get show notes, in-depth eCommerce Fuel posts and your free copy of Andrew's highly reviewed 55-page eCommerce guide at eCommercefuel.com.\"},\n",
              " {'title': 'eCommerce Minute',\n",
              "  'image': 'http://is5.mzstatic.com/image/thumb/Music118/v4/b2/0c/04/b20c043f-e22c-403e-f21b-af98308bedad/source/600x600bb.jpg',\n",
              "  'description': 'The eCommerce Minute: Your Daily Dose of eCommerce and Tech News by SUMOHeavy | This podcast was created in Anchor. To make your own podcast for free, visit https://anchor.fm/ecommerceminute'},\n",
              " {'title': 'Shopify Masters',\n",
              "  'image': 'http://is5.mzstatic.com/image/thumb/Music111/v4/45/f7/e7/45f7e7c8-3300-5fd6-cc07-21a777c06ca5/source/600x600bb.jpg',\n",
              "  'description': 'Knowledge and inspiration from leading ecommerce experts. Brought to you by Shopify. '},\n",
              " {'title': 'eCommerce Momentum Podcast',\n",
              "  'image': 'http://is1.mzstatic.com/image/thumb/Music71/v4/f3/42/76/f34276f3-076e-6be0-f1cf-1c661aaf499b/source/600x600bb.jpg',\n",
              "  'description': 'Ecommerce MOMENTUM is a podcast created for you, the Amazon, Ebay, Etsy, Shopify seller, or the Next Great eCommerce seller! We are here to help you understand how the top successful ecommerce sellers today got where they are, they tell you how they got unstuck, how they were able to outpace the herd and create a true business. Each episode brings you a top seller with specific actionable steps from Amazon FBA Sellers and Ebay Business Owners to help you start, grow or get unstuck. Interviews from Dan Miller, Chris Green and Jason T. Smith. This twice a week podcast will help you gain the Momentum you need to reach status.'}]"
            ]
          },
          "execution_count": 16,
          "metadata": {},
          "output_type": "execute_result"
        }
      ],
      "source": [
        "# ## Example Usage\n",
        "print(\"## Example Recommendations:\")\n",
        "recom = recommend_podcasts(language=\"english\", category=\"technology\", top_n=10)\n",
        "recom"
      ]
    },
    {
      "cell_type": "code",
      "execution_count": null,
      "metadata": {},
      "outputs": [],
      "source": []
    },
    {
      "cell_type": "code",
      "execution_count": null,
      "metadata": {},
      "outputs": [],
      "source": []
    }
  ],
  "metadata": {
    "colab": {
      "provenance": []
    },
    "kernelspec": {
      "display_name": "Python 3",
      "name": "python3"
    },
    "language_info": {
      "codemirror_mode": {
        "name": "ipython",
        "version": 3
      },
      "file_extension": ".py",
      "mimetype": "text/x-python",
      "name": "python",
      "nbconvert_exporter": "python",
      "pygments_lexer": "ipython3",
      "version": "3.11.5"
    }
  },
  "nbformat": 4,
  "nbformat_minor": 0
}
